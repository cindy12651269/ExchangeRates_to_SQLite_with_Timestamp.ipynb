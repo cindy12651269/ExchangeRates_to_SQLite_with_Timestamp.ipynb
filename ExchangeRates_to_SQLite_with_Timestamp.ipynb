{
  "nbformat": 4,
  "nbformat_minor": 0,
  "metadata": {
    "colab": {
      "provenance": [],
      "authorship_tag": "ABX9TyNwdFdXqofeVpk+wyJqt7OU",
      "include_colab_link": true
    },
    "kernelspec": {
      "name": "python3",
      "display_name": "Python 3"
    },
    "language_info": {
      "name": "python"
    }
  },
  "cells": [
    {
      "cell_type": "markdown",
      "metadata": {
        "id": "view-in-github",
        "colab_type": "text"
      },
      "source": [
        "<a href=\"https://colab.research.google.com/github/cindy12651269/ExchangeRates_to_SQLite_with_Timestamp.ipynb/blob/cindy12651269%2Fhw1/ExchangeRates_to_SQLite_with_Timestamp.ipynb\" target=\"_parent\"><img src=\"https://colab.research.google.com/assets/colab-badge.svg\" alt=\"Open In Colab\"/></a>"
      ]
    },
    {
      "cell_type": "code",
      "execution_count": 5,
      "metadata": {
        "colab": {
          "base_uri": "https://localhost:8080/"
        },
        "id": "4qdEA87nYDZ8",
        "outputId": "7ee09cc8-b4e8-4a48-c7d0-cc299d7115da"
      },
      "outputs": [
        {
          "output_type": "stream",
          "name": "stdout",
          "text": [
            "            幣別     現金買入     現金賣出    即期買入    即期賣出               更新時間\n",
            "0     美金 (USD)    32.15    32.82  32.475  32.625  24-07-09 13:50:43\n",
            "1     港幣 (HKD)    4.011    4.215   4.132   4.202  24-07-09 13:50:43\n",
            "2     英鎊 (GBP)     40.5    42.62  41.395  42.025  24-07-09 13:50:43\n",
            "3     澳幣 (AUD)    21.54    22.32  21.755    22.1  24-07-09 13:50:43\n",
            "4   加拿大幣 (CAD)    23.38    24.29   23.71   24.04  24-07-09 13:50:43\n",
            "5   新加坡幣 (SGD)    23.52    24.43   23.99   24.21  24-07-09 13:50:43\n",
            "6   瑞士法郎 (CHF)    35.45    36.65   36.06   36.45  24-07-09 13:50:43\n",
            "7     日圓 (JPY)    0.193   0.2058  0.1998  0.2048  24-07-09 13:50:43\n",
            "8    南非幣 (ZAR)        -        -    1.75    1.84  24-07-09 13:50:43\n",
            "9    瑞典幣 (SEK)      2.7     3.22    3.03    3.15  24-07-09 13:50:43\n",
            "10    紐元 (NZD)    19.46    20.31   19.79   20.09  24-07-09 13:50:43\n",
            "11    泰幣 (THB)   0.7657   0.9557  0.8761  0.9221  24-07-09 13:50:43\n",
            "12  菲國比索 (PHP)   0.4909   0.6229       -       -  24-07-09 13:50:43\n",
            "13   印尼幣 (IDR)  0.00168  0.00238       -       -  24-07-09 13:50:43\n",
            "14    歐元 (EUR)    34.42    35.76  34.935  35.535  24-07-09 13:50:43\n",
            "15    韓元 (KRW)   0.0218   0.0257       -       -  24-07-09 13:50:43\n",
            "16   越南盾 (VND)  0.00104  0.00145       -       -  24-07-09 13:50:43\n",
            "17   馬來幣 (MYR)    5.889    7.414       -       -  24-07-09 13:50:43\n",
            "18   人民幣 (CNY)     4.37    4.532   4.437   4.497  24-07-09 13:50:43\n"
          ]
        }
      ],
      "source": [
        "import requests\n",
        "from bs4 import BeautifulSoup\n",
        "import pandas as pd\n",
        "import sqlite3\n",
        "from datetime import datetime\n",
        "\n",
        "# Define the URL to scrape\n",
        "url = 'https://rate.bot.com.tw/xrt?Lang=zh-TW'\n",
        "\n",
        "# Send a GET request to the URL\n",
        "r = requests.get(url)\n",
        "\n",
        "# Parse the HTML content using BeautifulSoup with html5lib parser\n",
        "soup = BeautifulSoup(r.text, 'html5lib')\n",
        "\n",
        "# Find all the currency names\n",
        "currency = soup.find_all('div', class_=\"visible-phone print_hide\")\n",
        "\n",
        "# Find all the cash buy rates\n",
        "cash_buy_rate = soup.find_all('td', class_=\"rate-content-cash text-right print_hide\", attrs={'data-table': '本行現金買入'})\n",
        "\n",
        "# Find all the cash sell rates\n",
        "cash_sell_rate = soup.find_all('td', class_='rate-content-cash text-right print_hide', attrs={'data-table': '本行現金賣出'})\n",
        "\n",
        "# Find all the sight buy rates\n",
        "sight_buy_rate = soup.find_all('td', class_='rate-content-sight text-right print_hide', attrs={'data-table': '本行即期買入'})\n",
        "\n",
        "# Find all the sight sell rates\n",
        "sight_sell_rate = soup.find_all('td', class_='rate-content-sight text-right print_hide', attrs={'data-table': '本行即期賣出'})\n",
        "\n",
        "# Initialize an empty list to store the data\n",
        "data_list = []\n",
        "\n",
        "# Get the current timestamp\n",
        "timestamp = datetime.now().strftime('%y-%m-%d %H:%M:%S')\n",
        "\n",
        "for i in range(len(currency)):\n",
        "    # Strip any whitespace characters in currency_names, cash_buy, cash_sell, sight_buy, and sight_sell\n",
        "    currency_name = currency[i].text.strip()\n",
        "    cash_buy = cash_buy_rate[i].text.strip()\n",
        "    cash_sell = cash_sell_rate[i].text.strip()\n",
        "    sight_buy = sight_buy_rate[i].text.strip()\n",
        "    sight_sell = sight_sell_rate[i].text.strip()\n",
        "\n",
        "    # Append the extracted data to the list along with the timestamp\n",
        "    data_list.append([currency_name, cash_buy, cash_sell, sight_buy, sight_sell, timestamp])\n",
        "\n",
        "# Create a DataFrame from the list with the specified column names\n",
        "df = pd.DataFrame(data_list, columns=['幣別','現金買入','現金賣出','即期買入','即期賣出','更新時間'])\n",
        "\n",
        "# Connect to the SQLite database\n",
        "conn = sqlite3.connect('exchange_rates.db')\n",
        "\n",
        "# Create a cursor object\n",
        "c = conn.cursor()\n",
        "\n",
        "# Create the exchange_rates table if it doesn't exist\n",
        "c.execute(\n",
        "    '''\n",
        "    CREATE TABLE IF NOT EXISTS exchange_rates(\n",
        "        id INTEGER PRIMARY KEY AUTOINCREMENT,\n",
        "         幣別 TEXT,\n",
        "         現金買入 TEXT,\n",
        "         現金賣出 TEXT,\n",
        "         即期買入 TEXT,\n",
        "         即期賣出 TEXT,\n",
        "         更新時間 TEXT\n",
        "    )\n",
        "    '''\n",
        ")\n",
        "\n",
        "# Insert the data into the exchange_rates table\n",
        "df.to_sql('exchange_rate', conn, if_exists='append', index=False)\n",
        "# Commit the transaction and close the connection\n",
        "conn.commit()\n",
        "conn.close()\n",
        "\n",
        "print(df)\n"
      ]
    }
  ]
}